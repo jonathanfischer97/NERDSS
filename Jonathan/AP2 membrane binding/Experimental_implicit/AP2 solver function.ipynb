{
 "cells": [
  {
   "cell_type": "code",
   "execution_count": 1,
   "metadata": {},
   "outputs": [],
   "source": [
    "from sympy import symbols, solve, solveset, S, simplify, expand, nsolve, evalf\n",
    "import math\n",
    "import numpy as np\n",
    "import matplotlib.pyplot as plt\n",
    "from scipy.optimize import brentq"
   ]
  },
  {
   "cell_type": "code",
   "execution_count": 8,
   "metadata": {},
   "outputs": [],
   "source": [
    "file = open('histogram_complexes_time.dat', 'r')\n",
    "\n",
    "\n",
    "real_iterations = 50000 + 1\n",
    "time = np.zeros(real_iterations)\n",
    "A = np.zeros(real_iterations)\n",
    "P = np.zeros(real_iterations)\n",
    "T = np.zeros(real_iterations)\n",
    "AP = np.zeros(real_iterations)\n",
    "APT = np.zeros(real_iterations)\n",
    "\n",
    "count = -1\n",
    "for line in file:\n",
    "    linesplit = line.split()\n",
    "\n",
    "    if linesplit[0] == 'Time':\n",
    "        count += 1\n",
    "        time[count] = float(linesplit[2])\n",
    "\n",
    "    if linesplit[1] == 'ap2:' and len(linesplit) == 3:\n",
    "        A[count]= (int(linesplit[0]))\n",
    "\n",
    "    if linesplit[1] == 'pip2:' and len(linesplit) == 3:\n",
    "        P[count] = (int(linesplit[0]))\n",
    "\n",
    "    if linesplit[1] == 'trans:' and len(linesplit) == 3:\n",
    "        T[count] = (int(linesplit[0]))\n",
    "        \n",
    "    if linesplit[1] == 'pip2:' and len(linesplit) == 5:\n",
    "        AP[count] = (int(linesplit[0]))\n",
    "        \n",
    "    if linesplit[1] == 'pip2:' and len(linesplit) == 7:\n",
    "        APT[count] = (int(linesplit[0]))"
   ]
  },
  {
   "cell_type": "code",
   "execution_count": 3,
   "metadata": {},
   "outputs": [],
   "source": [
    "#function to convert molar to nm^-3, or vice versa, and copy numbers \n",
    "\n",
    "def converter(Kd, L, molar = True):\n",
    "    #convert Kd in nanomolar to nm^-3\n",
    "    if molar == True:\n",
    "        new_Kd = Kd/1e24 #liters to cubic nanometers\n",
    "        new_Kd = new_Kd/1e9 #convert nanomoles to moles \n",
    "        new_Kd = new_Kd * (6.022*1e23) #convert moles to copies \n",
    "        copies = new_Kd * (L**3)\n",
    "        return new_Kd, copies \n",
    "    elif molar == False:\n",
    "        new_Kd = Kd * 1e24\n",
    "        new_Kd = new_Kd/(6.022*1e23)\n",
    "        new_Kd = new_Kd * 1e9\n",
    "        return new_Kd \n",
    "\n"
   ]
  },
  {
   "cell_type": "code",
   "execution_count": 4,
   "metadata": {},
   "outputs": [
    {
     "data": {
      "text/plain": [
       "(8.515107999999999e-07, 106.43884999999999)"
      ]
     },
     "execution_count": 4,
     "metadata": {},
     "output_type": "execute_result"
    }
   ],
   "source": [
    "#T\n",
    "converter(1414, 500)"
   ]
  },
  {
   "cell_type": "code",
   "execution_count": 7,
   "metadata": {},
   "outputs": [
    {
     "data": {
      "text/plain": [
       "(3.0109999999999996e-06, 376.37499999999994)"
      ]
     },
     "execution_count": 7,
     "metadata": {},
     "output_type": "execute_result"
    }
   ],
   "source": [
    "#A\n",
    "converter(5000,500)"
   ]
  },
  {
   "cell_type": "code",
   "execution_count": 2,
   "metadata": {},
   "outputs": [],
   "source": [
    "def solver(Na,Nb,Nc,L,ka1,kb1,ka2,kb2):   \n",
    "    \n",
    "    Kd1 = (kb1*(10**-6))/ka1\n",
    "    Kd2 = (kb2*(10**-6))/(ka2/2)\n",
    "    \n",
    "    na_imp = symbols('na_imp', real = True, positive = True)\n",
    "\n",
    "    nab_imp = (((Nb*na_imp)-(Na*na_imp)+(na_imp**2))/((L**3)*Kd1))\n",
    "\n",
    "    eq1 = (((nab_imp*(Nc-Na+na_imp+nab_imp))/((L**2)*(Na-na_imp-nab_imp)))-Kd2)\n",
    "\n",
    "    x = solveset(eq1, na_imp, domain = S.Reals)\n",
    "    #na = nsolve(eq1, na_imp, -10, dict = True)\n",
    "    \n",
    "    \n",
    "    na = 0 \n",
    "    for i in list(x):\n",
    "        if i > 0:\n",
    "            na = i\n",
    "    \n",
    "    nab = (((Nb*na)-(Na*na)+(na**2))/((L**3)*Kd1))\n",
    "    \n",
    "    nc = na + nab + Nc - Na\n",
    "    \n",
    "    nb = Nb - Na + na\n",
    "    \n",
    "    nabc = Nc - nc\n",
    "    \n",
    "    na_array = na * np.ones(50001)\n",
    "    nb_array = nb * np.ones(50001)\n",
    "    nc_array = nc * np.ones(50001)\n",
    "    nab_array = nab * np.ones(50001)\n",
    "    nabc_array = nabc * np.ones(50001)\n",
    "\n",
    "\n",
    "    print('Free AP2: ' + str(na))\n",
    "    print('Free PIP2: ' + str(nb))\n",
    "    print('Free Transferrin: ' + str(nc))\n",
    "    print('AP2-PIP2: ' + str(nab))\n",
    "    print('AP2-PIP2-Transferrin: ' + str(nabc))\n",
    "\n",
    "    return na_array, nb_array, nc_array, nab_array, nabc_array\n",
    "    "
   ]
  },
  {
   "cell_type": "code",
   "execution_count": 65,
   "metadata": {},
   "outputs": [],
   "source": [
    "def exp_solver(Na,Nb,Nc,L,ka1,kb1,ka2,kb2):   \n",
    "    \n",
    "    Kd1 = (kb1*(10**-6))/ka1\n",
    "    Kd2 = (kb2*(10**-6))/(ka2)\n",
    "    \n",
    "    na_imp = symbols('na_imp', real = True, positive = True)\n",
    "\n",
    "    nab_imp = (((Nb*na_imp)-(Na*na_imp)+(na_imp**2))/((L**3)*Kd1))\n",
    "\n",
    "    eq1 = (((nab_imp*(Nc-Na+na_imp+nab_imp))/((L**2)*(Na-na_imp-nab_imp)))-Kd2)\n",
    "\n",
    "    x = solveset(eq1, na_imp, domain = S.Reals)\n",
    "    #na = nsolve(eq1, na_imp, -10, dict = True)\n",
    "    \n",
    "    \n",
    "    na = 0 \n",
    "    for i in list(x):\n",
    "        if i > 0:\n",
    "            na = i\n",
    "    \n",
    "    nab = (((Nb*na)-(Na*na)+(na**2))/((L**3)*Kd1))\n",
    "    \n",
    "    nc = na + nab + Nc - Na\n",
    "    \n",
    "    nb = Nb - Na + na\n",
    "    \n",
    "    nabc = Nc - nc\n",
    "    \n",
    "    na_array = na * np.ones(50001)\n",
    "    nb_array = nb * np.ones(50001)\n",
    "    nc_array = nc * np.ones(50001)\n",
    "    nab_array = nab * np.ones(50001)\n",
    "    nabc_array = nabc * np.ones(50001)\n",
    "\n",
    "\n",
    "    print('Free AP2: ' + str(na))\n",
    "    print('Free PIP2: ' + str(nb))\n",
    "    print('Free Transferrin: ' + str(nc))\n",
    "    print('AP2-PIP2: ' + str(nab))\n",
    "    print('AP2-PIP2-Transferrin: ' + str(nabc))\n",
    "\n",
    "    return na_array, nb_array, nc_array, nab_array, nabc_array\n",
    "    "
   ]
  },
  {
   "cell_type": "code",
   "execution_count": null,
   "metadata": {},
   "outputs": [],
   "source": [
    "nab_imp = (((Nb*na_imp)-(Na*na_imp)+(na_imp**2))/((L**3)*Kd1))\n",
    "\n",
    "eq1 = (((nab_imp*(Nc-Na+na_imp+nab_imp))/((L**2)*(Na-na_imp-nab_imp)))-Kd2)"
   ]
  },
  {
   "cell_type": "code",
   "execution_count": 153,
   "metadata": {},
   "outputs": [
    {
     "name": "stdout",
     "output_type": "stream",
     "text": [
      "0.00032999999999999994\n",
      "0.0007073421439060207\n"
     ]
    }
   ],
   "source": [
    "Na = 500\n",
    "Nb = 1000\n",
    "Nc = 100\n",
    "L = 100\n",
    "ka1 = 0.1\n",
    "kb1 = 33\n",
    "ka2 = 0.1362\n",
    "kb2 = 48.17\n",
    "Kd1 = (kb1*10**-6)/ka1\n",
    "Kd2 = (kb2*10**-6)/(ka2/2)\n",
    "\n",
    "print(Kd1)\n",
    "print(Kd2)"
   ]
  },
  {
   "cell_type": "code",
   "execution_count": 251,
   "metadata": {},
   "outputs": [
    {
     "data": {
      "text/latex": [
       "$\\displaystyle \\frac{- Kd_{1} Kd_{2} L^{5} \\left(Kd_{1} L^{3} \\left(Na - na_{imp}\\right) + Na na_{imp} - Nb na_{imp} - na_{imp}^{2}\\right) + na_{imp} \\left(- Na + Nb + na_{imp}\\right) \\left(Kd_{1} L^{3} \\left(- Na + Nc + na_{imp}\\right) - Na na_{imp} + Nb na_{imp} + na_{imp}^{2}\\right)}{Kd_{1} L^{5} \\left(Kd_{1} L^{3} \\left(Na - na_{imp}\\right) + Na na_{imp} - Nb na_{imp} - na_{imp}^{2}\\right)}$"
      ],
      "text/plain": [
       "(-Kd1*Kd2*L**5*(Kd1*L**3*(Na - na_imp) + Na*na_imp - Nb*na_imp - na_imp**2) + na_imp*(-Na + Nb + na_imp)*(Kd1*L**3*(-Na + Nc + na_imp) - Na*na_imp + Nb*na_imp + na_imp**2))/(Kd1*L**5*(Kd1*L**3*(Na - na_imp) + Na*na_imp - Nb*na_imp - na_imp**2))"
      ]
     },
     "execution_count": 251,
     "metadata": {},
     "output_type": "execute_result"
    }
   ],
   "source": [
    "na_imp, Na, Nb, Nc, L, Kd1, Kd2 = symbols('na_imp, Na, Nb, Nc, L, Kd1, Kd2')\n",
    "\n",
    "\n",
    "#Kd1 = kb1/ka1\n",
    "#Kd2 = kb2/(ka2/2)\n",
    "\n",
    "nab_imp = (((Nb*na_imp)-(Na*na_imp)+(na_imp**2))/((L**3)*Kd1))\n",
    "\n",
    "eq1 = (((nab_imp*(Nc-Na+na_imp+nab_imp))/((L**2)*(Na-na_imp-nab_imp)))-Kd2)\n",
    "\n",
    "\n",
    "x = eq1.evalf() #subs = {Na:500, Nb:1000, Nc:100,L:100,Kd1:0.00033,Kd2:0.000707})\n",
    "\n",
    "\n",
    "#x = simplify(eq1)\n",
    "simplify(x)\n",
    "#expand(x)"
   ]
  },
  {
   "cell_type": "code",
   "execution_count": 29,
   "metadata": {},
   "outputs": [
    {
     "data": {
      "text/latex": [
       "$\\displaystyle - \\frac{A^{2} a^{2}}{- A K_{D1}^{2} K_{D2}^{2} L^{8} - A K_{D1} K_{D2}^{2} L^{5} a - A K_{D1} K_{D2} L^{5} a + K_{D1}^{2} K_{D2}^{2} L^{8} a + K_{D1} K_{D2}^{2} L^{5} P a + K_{D1} K_{D2}^{2} L^{5} a^{2} + K_{D1} K_{D2} L^{5} P a + K_{D1} K_{D2} L^{5} a^{2}} - \\frac{A^{2} a^{2}}{- A K_{D1}^{2} K_{D2} L^{8} - A K_{D1} K_{D2} L^{5} a - A K_{D1} L^{5} a + K_{D1}^{2} K_{D2} L^{8} a + K_{D1} K_{D2} L^{5} P a + K_{D1} K_{D2} L^{5} a^{2} + K_{D1} L^{5} P a + K_{D1} L^{5} a^{2}} - \\frac{A^{2} a}{- A K_{D1} K_{D2} L^{5} - A K_{D2} L^{2} a - A L^{2} a + K_{D1} K_{D2} L^{5} a + K_{D2} L^{2} P a + K_{D2} L^{2} a^{2} + L^{2} P a + L^{2} a^{2}} + \\frac{2 A P a^{2}}{- A K_{D1}^{2} K_{D2}^{2} L^{8} - A K_{D1} K_{D2}^{2} L^{5} a - A K_{D1} K_{D2} L^{5} a + K_{D1}^{2} K_{D2}^{2} L^{8} a + K_{D1} K_{D2}^{2} L^{5} P a + K_{D1} K_{D2}^{2} L^{5} a^{2} + K_{D1} K_{D2} L^{5} P a + K_{D1} K_{D2} L^{5} a^{2}} + \\frac{2 A P a^{2}}{- A K_{D1}^{2} K_{D2} L^{8} - A K_{D1} K_{D2} L^{5} a - A K_{D1} L^{5} a + K_{D1}^{2} K_{D2} L^{8} a + K_{D1} K_{D2} L^{5} P a + K_{D1} K_{D2} L^{5} a^{2} + K_{D1} L^{5} P a + K_{D1} L^{5} a^{2}} + \\frac{A P a}{- A K_{D1} K_{D2} L^{5} - A K_{D2} L^{2} a - A L^{2} a + K_{D1} K_{D2} L^{5} a + K_{D2} L^{2} P a + K_{D2} L^{2} a^{2} + L^{2} P a + L^{2} a^{2}} - \\frac{A T a}{- A K_{D1} K_{D2} L^{5} - A K_{D2} L^{2} a - A L^{2} a + K_{D1} K_{D2} L^{5} a + K_{D2} L^{2} P a + K_{D2} L^{2} a^{2} + L^{2} P a + L^{2} a^{2}} + \\frac{2 A a^{3}}{- A K_{D1}^{2} K_{D2}^{2} L^{8} - A K_{D1} K_{D2}^{2} L^{5} a - A K_{D1} K_{D2} L^{5} a + K_{D1}^{2} K_{D2}^{2} L^{8} a + K_{D1} K_{D2}^{2} L^{5} P a + K_{D1} K_{D2}^{2} L^{5} a^{2} + K_{D1} K_{D2} L^{5} P a + K_{D1} K_{D2} L^{5} a^{2}} + \\frac{2 A a^{3}}{- A K_{D1}^{2} K_{D2} L^{8} - A K_{D1} K_{D2} L^{5} a - A K_{D1} L^{5} a + K_{D1}^{2} K_{D2} L^{8} a + K_{D1} K_{D2} L^{5} P a + K_{D1} K_{D2} L^{5} a^{2} + K_{D1} L^{5} P a + K_{D1} L^{5} a^{2}} + \\frac{2 A a^{2}}{- A K_{D1} K_{D2} L^{5} - A K_{D2} L^{2} a - A L^{2} a + K_{D1} K_{D2} L^{5} a + K_{D2} L^{2} P a + K_{D2} L^{2} a^{2} + L^{2} P a + L^{2} a^{2}} - \\frac{P^{2} a^{2}}{- A K_{D1}^{2} K_{D2}^{2} L^{8} - A K_{D1} K_{D2}^{2} L^{5} a - A K_{D1} K_{D2} L^{5} a + K_{D1}^{2} K_{D2}^{2} L^{8} a + K_{D1} K_{D2}^{2} L^{5} P a + K_{D1} K_{D2}^{2} L^{5} a^{2} + K_{D1} K_{D2} L^{5} P a + K_{D1} K_{D2} L^{5} a^{2}} - \\frac{P^{2} a^{2}}{- A K_{D1}^{2} K_{D2} L^{8} - A K_{D1} K_{D2} L^{5} a - A K_{D1} L^{5} a + K_{D1}^{2} K_{D2} L^{8} a + K_{D1} K_{D2} L^{5} P a + K_{D1} K_{D2} L^{5} a^{2} + K_{D1} L^{5} P a + K_{D1} L^{5} a^{2}} + \\frac{P T a}{- A K_{D1} K_{D2} L^{5} - A K_{D2} L^{2} a - A L^{2} a + K_{D1} K_{D2} L^{5} a + K_{D2} L^{2} P a + K_{D2} L^{2} a^{2} + L^{2} P a + L^{2} a^{2}} - \\frac{2 P a^{3}}{- A K_{D1}^{2} K_{D2}^{2} L^{8} - A K_{D1} K_{D2}^{2} L^{5} a - A K_{D1} K_{D2} L^{5} a + K_{D1}^{2} K_{D2}^{2} L^{8} a + K_{D1} K_{D2}^{2} L^{5} P a + K_{D1} K_{D2}^{2} L^{5} a^{2} + K_{D1} K_{D2} L^{5} P a + K_{D1} K_{D2} L^{5} a^{2}} - \\frac{2 P a^{3}}{- A K_{D1}^{2} K_{D2} L^{8} - A K_{D1} K_{D2} L^{5} a - A K_{D1} L^{5} a + K_{D1}^{2} K_{D2} L^{8} a + K_{D1} K_{D2} L^{5} P a + K_{D1} K_{D2} L^{5} a^{2} + K_{D1} L^{5} P a + K_{D1} L^{5} a^{2}} - \\frac{P a^{2}}{- A K_{D1} K_{D2} L^{5} - A K_{D2} L^{2} a - A L^{2} a + K_{D1} K_{D2} L^{5} a + K_{D2} L^{2} P a + K_{D2} L^{2} a^{2} + L^{2} P a + L^{2} a^{2}} + \\frac{T a^{2}}{- A K_{D1} K_{D2} L^{5} - A K_{D2} L^{2} a - A L^{2} a + K_{D1} K_{D2} L^{5} a + K_{D2} L^{2} P a + K_{D2} L^{2} a^{2} + L^{2} P a + L^{2} a^{2}} - \\frac{a^{4}}{- A K_{D1}^{2} K_{D2}^{2} L^{8} - A K_{D1} K_{D2}^{2} L^{5} a - A K_{D1} K_{D2} L^{5} a + K_{D1}^{2} K_{D2}^{2} L^{8} a + K_{D1} K_{D2}^{2} L^{5} P a + K_{D1} K_{D2}^{2} L^{5} a^{2} + K_{D1} K_{D2} L^{5} P a + K_{D1} K_{D2} L^{5} a^{2}} - \\frac{a^{4}}{- A K_{D1}^{2} K_{D2} L^{8} - A K_{D1} K_{D2} L^{5} a - A K_{D1} L^{5} a + K_{D1}^{2} K_{D2} L^{8} a + K_{D1} K_{D2} L^{5} P a + K_{D1} K_{D2} L^{5} a^{2} + K_{D1} L^{5} P a + K_{D1} L^{5} a^{2}} - \\frac{a^{3}}{- A K_{D1} K_{D2} L^{5} - A K_{D2} L^{2} a - A L^{2} a + K_{D1} K_{D2} L^{5} a + K_{D2} L^{2} P a + K_{D2} L^{2} a^{2} + L^{2} P a + L^{2} a^{2}}$"
      ],
      "text/plain": [
       "-A**2*a**2/(-A*K_D1**2*K_D2**2*L**8 - A*K_D1*K_D2**2*L**5*a - A*K_D1*K_D2*L**5*a + K_D1**2*K_D2**2*L**8*a + K_D1*K_D2**2*L**5*P*a + K_D1*K_D2**2*L**5*a**2 + K_D1*K_D2*L**5*P*a + K_D1*K_D2*L**5*a**2) - A**2*a**2/(-A*K_D1**2*K_D2*L**8 - A*K_D1*K_D2*L**5*a - A*K_D1*L**5*a + K_D1**2*K_D2*L**8*a + K_D1*K_D2*L**5*P*a + K_D1*K_D2*L**5*a**2 + K_D1*L**5*P*a + K_D1*L**5*a**2) - A**2*a/(-A*K_D1*K_D2*L**5 - A*K_D2*L**2*a - A*L**2*a + K_D1*K_D2*L**5*a + K_D2*L**2*P*a + K_D2*L**2*a**2 + L**2*P*a + L**2*a**2) + 2*A*P*a**2/(-A*K_D1**2*K_D2**2*L**8 - A*K_D1*K_D2**2*L**5*a - A*K_D1*K_D2*L**5*a + K_D1**2*K_D2**2*L**8*a + K_D1*K_D2**2*L**5*P*a + K_D1*K_D2**2*L**5*a**2 + K_D1*K_D2*L**5*P*a + K_D1*K_D2*L**5*a**2) + 2*A*P*a**2/(-A*K_D1**2*K_D2*L**8 - A*K_D1*K_D2*L**5*a - A*K_D1*L**5*a + K_D1**2*K_D2*L**8*a + K_D1*K_D2*L**5*P*a + K_D1*K_D2*L**5*a**2 + K_D1*L**5*P*a + K_D1*L**5*a**2) + A*P*a/(-A*K_D1*K_D2*L**5 - A*K_D2*L**2*a - A*L**2*a + K_D1*K_D2*L**5*a + K_D2*L**2*P*a + K_D2*L**2*a**2 + L**2*P*a + L**2*a**2) - A*T*a/(-A*K_D1*K_D2*L**5 - A*K_D2*L**2*a - A*L**2*a + K_D1*K_D2*L**5*a + K_D2*L**2*P*a + K_D2*L**2*a**2 + L**2*P*a + L**2*a**2) + 2*A*a**3/(-A*K_D1**2*K_D2**2*L**8 - A*K_D1*K_D2**2*L**5*a - A*K_D1*K_D2*L**5*a + K_D1**2*K_D2**2*L**8*a + K_D1*K_D2**2*L**5*P*a + K_D1*K_D2**2*L**5*a**2 + K_D1*K_D2*L**5*P*a + K_D1*K_D2*L**5*a**2) + 2*A*a**3/(-A*K_D1**2*K_D2*L**8 - A*K_D1*K_D2*L**5*a - A*K_D1*L**5*a + K_D1**2*K_D2*L**8*a + K_D1*K_D2*L**5*P*a + K_D1*K_D2*L**5*a**2 + K_D1*L**5*P*a + K_D1*L**5*a**2) + 2*A*a**2/(-A*K_D1*K_D2*L**5 - A*K_D2*L**2*a - A*L**2*a + K_D1*K_D2*L**5*a + K_D2*L**2*P*a + K_D2*L**2*a**2 + L**2*P*a + L**2*a**2) - P**2*a**2/(-A*K_D1**2*K_D2**2*L**8 - A*K_D1*K_D2**2*L**5*a - A*K_D1*K_D2*L**5*a + K_D1**2*K_D2**2*L**8*a + K_D1*K_D2**2*L**5*P*a + K_D1*K_D2**2*L**5*a**2 + K_D1*K_D2*L**5*P*a + K_D1*K_D2*L**5*a**2) - P**2*a**2/(-A*K_D1**2*K_D2*L**8 - A*K_D1*K_D2*L**5*a - A*K_D1*L**5*a + K_D1**2*K_D2*L**8*a + K_D1*K_D2*L**5*P*a + K_D1*K_D2*L**5*a**2 + K_D1*L**5*P*a + K_D1*L**5*a**2) + P*T*a/(-A*K_D1*K_D2*L**5 - A*K_D2*L**2*a - A*L**2*a + K_D1*K_D2*L**5*a + K_D2*L**2*P*a + K_D2*L**2*a**2 + L**2*P*a + L**2*a**2) - 2*P*a**3/(-A*K_D1**2*K_D2**2*L**8 - A*K_D1*K_D2**2*L**5*a - A*K_D1*K_D2*L**5*a + K_D1**2*K_D2**2*L**8*a + K_D1*K_D2**2*L**5*P*a + K_D1*K_D2**2*L**5*a**2 + K_D1*K_D2*L**5*P*a + K_D1*K_D2*L**5*a**2) - 2*P*a**3/(-A*K_D1**2*K_D2*L**8 - A*K_D1*K_D2*L**5*a - A*K_D1*L**5*a + K_D1**2*K_D2*L**8*a + K_D1*K_D2*L**5*P*a + K_D1*K_D2*L**5*a**2 + K_D1*L**5*P*a + K_D1*L**5*a**2) - P*a**2/(-A*K_D1*K_D2*L**5 - A*K_D2*L**2*a - A*L**2*a + K_D1*K_D2*L**5*a + K_D2*L**2*P*a + K_D2*L**2*a**2 + L**2*P*a + L**2*a**2) + T*a**2/(-A*K_D1*K_D2*L**5 - A*K_D2*L**2*a - A*L**2*a + K_D1*K_D2*L**5*a + K_D2*L**2*P*a + K_D2*L**2*a**2 + L**2*P*a + L**2*a**2) - a**4/(-A*K_D1**2*K_D2**2*L**8 - A*K_D1*K_D2**2*L**5*a - A*K_D1*K_D2*L**5*a + K_D1**2*K_D2**2*L**8*a + K_D1*K_D2**2*L**5*P*a + K_D1*K_D2**2*L**5*a**2 + K_D1*K_D2*L**5*P*a + K_D1*K_D2*L**5*a**2) - a**4/(-A*K_D1**2*K_D2*L**8 - A*K_D1*K_D2*L**5*a - A*K_D1*L**5*a + K_D1**2*K_D2*L**8*a + K_D1*K_D2*L**5*P*a + K_D1*K_D2*L**5*a**2 + K_D1*L**5*P*a + K_D1*L**5*a**2) - a**3/(-A*K_D1*K_D2*L**5 - A*K_D2*L**2*a - A*L**2*a + K_D1*K_D2*L**5*a + K_D2*L**2*P*a + K_D2*L**2*a**2 + L**2*P*a + L**2*a**2)"
      ]
     },
     "execution_count": 29,
     "metadata": {},
     "output_type": "execute_result"
    }
   ],
   "source": [
    "#Phosphorylation equation\n",
    "\n",
    "a,A,P,T,Kd1,Kd2,Kd3,L = symbols('a,A,P,T,K_D1,K_D2,K_D3,L')\n",
    "\n",
    "ap = (a*(P-A+a))/(Kd1*L**3)\n",
    "\n",
    "app = (a*(P-A+a))/(Kd1*Kd2*L**3)\n",
    "\n",
    "equation = (app*(T-a+A-ap-app))/((L**2)*(a-A+ap+app))\n",
    "\n",
    "expand(equation)"
   ]
  },
  {
   "cell_type": "code",
   "execution_count": 254,
   "metadata": {},
   "outputs": [
    {
     "data": {
      "text/latex": [
       "$\\displaystyle - K_{d2} + \\frac{\\left(- N_{A} n_{A} + N_{P} n_{A} + n_{A}^{2}\\right) \\left(- N_{A} + N_{T} + n_{A} + \\frac{- N_{A} n_{A} + N_{P} n_{A} + n_{A}^{2}}{K_{d1} L^{3}}\\right)}{K_{d1} L^{5} \\left(N_{A} - n_{A} - \\frac{- N_{A} n_{A} + N_{P} n_{A} + n_{A}^{2}}{K_{d1} L^{3}}\\right)}$"
      ],
      "text/plain": [
       "-K_d2 + (-N_A*n_A + N_P*n_A + n_A**2)*(-N_A + N_T + n_A + (-N_A*n_A + N_P*n_A + n_A**2)/(K_d1*L**3))/(K_d1*L**5*(N_A - n_A - (-N_A*n_A + N_P*n_A + n_A**2)/(K_d1*L**3)))"
      ]
     },
     "execution_count": 254,
     "metadata": {},
     "output_type": "execute_result"
    }
   ],
   "source": [
    "n_A, N_A, N_P, N_T, L, K_d1, K_d2 = symbols('n_A, N_A, N_P, N_T, L, K_d1, K_d2')\n",
    "\n",
    "\n",
    "#Kd1 = kb1/ka1\n",
    "#Kd2 = kb2/(ka2/2)\n",
    "\n",
    "n_AP = (((N_P*n_A)-(N_A*n_A)+(n_A**2))/((L**3)*K_d1))\n",
    "\n",
    "eq1 = (((n_AP*(N_T-N_A+n_A+n_AP))/((L**2)*(N_A-n_A-n_AP)))-K_d2)\n",
    "\n",
    "\n",
    "x = eq1.evalf() #subs = {Na:500, Nb:1000, Nc:100,L:100,Kd1:0.00033,Kd2:0.000707})\n",
    "\n",
    "x\n",
    "#x = simplify(eq1)\n",
    "#simplify(x)\n",
    "#expand(x)"
   ]
  },
  {
   "cell_type": "code",
   "execution_count": 151,
   "metadata": {},
   "outputs": [
    {
     "data": {
      "text/latex": [
       "$\\displaystyle x^{2} + 5.0$"
      ],
      "text/plain": [
       "x**2 + 5.0"
      ]
     },
     "execution_count": 151,
     "metadata": {},
     "output_type": "execute_result"
    }
   ],
   "source": [
    "x, y = symbols('x, y')\n",
    "\n",
    "y = 7\n",
    "eq = x**2 + y \n",
    "\n",
    "eq.evalf(subs={y:5})"
   ]
  },
  {
   "cell_type": "code",
   "execution_count": 177,
   "metadata": {},
   "outputs": [
    {
     "data": {
      "text/latex": [
       "$\\displaystyle - Kd_{2} + \\frac{\\left(- Na \\left(\\frac{3.03030303030303 \\cdot 10^{-7} \\left(na_{imp}^{2} + 500.0 na_{imp}\\right) \\left(0.00303030303030303 na_{imp}^{2} + 2.51515151515152 na_{imp} - 400.0\\right)}{- 0.00303030303030303 na_{imp}^{2} - 2.51515151515152 na_{imp} + 500.0} - 0.000707\\right) + Nb \\left(\\frac{3.03030303030303 \\cdot 10^{-7} \\left(na_{imp}^{2} + 500.0 na_{imp}\\right) \\left(0.00303030303030303 na_{imp}^{2} + 2.51515151515152 na_{imp} - 400.0\\right)}{- 0.00303030303030303 na_{imp}^{2} - 2.51515151515152 na_{imp} + 500.0} - 0.000707\\right) + 4.99849 \\cdot 10^{-7} \\left(\\frac{0.000428614290000429 \\left(na_{imp}^{2} + 500.0 na_{imp}\\right) \\left(0.00303030303030303 na_{imp}^{2} + 2.51515151515152 na_{imp} - 400.0\\right)}{- 0.00303030303030303 na_{imp}^{2} - 2.51515151515152 na_{imp} + 500.0} - 1\\right)^{2}\\right) \\left(- Na + Nc + \\frac{3.03030303030303 \\cdot 10^{-7} \\left(na_{imp}^{2} + 500.0 na_{imp}\\right) \\left(0.00303030303030303 na_{imp}^{2} + 2.51515151515152 na_{imp} - 400.0\\right)}{- 0.00303030303030303 na_{imp}^{2} - 2.51515151515152 na_{imp} + 500.0} - 0.000707 + \\frac{- Na \\left(\\frac{3.03030303030303 \\cdot 10^{-7} \\left(na_{imp}^{2} + 500.0 na_{imp}\\right) \\left(0.00303030303030303 na_{imp}^{2} + 2.51515151515152 na_{imp} - 400.0\\right)}{- 0.00303030303030303 na_{imp}^{2} - 2.51515151515152 na_{imp} + 500.0} - 0.000707\\right) + Nb \\left(\\frac{3.03030303030303 \\cdot 10^{-7} \\left(na_{imp}^{2} + 500.0 na_{imp}\\right) \\left(0.00303030303030303 na_{imp}^{2} + 2.51515151515152 na_{imp} - 400.0\\right)}{- 0.00303030303030303 na_{imp}^{2} - 2.51515151515152 na_{imp} + 500.0} - 0.000707\\right) + 4.99849 \\cdot 10^{-7} \\left(\\frac{0.000428614290000429 \\left(na_{imp}^{2} + 500.0 na_{imp}\\right) \\left(0.00303030303030303 na_{imp}^{2} + 2.51515151515152 na_{imp} - 400.0\\right)}{- 0.00303030303030303 na_{imp}^{2} - 2.51515151515152 na_{imp} + 500.0} - 1\\right)^{2}}{Kd_{1} L^{3}}\\right)}{Kd_{1} L^{5} \\left(Na - \\frac{3.03030303030303 \\cdot 10^{-7} \\left(na_{imp}^{2} + 500.0 na_{imp}\\right) \\left(0.00303030303030303 na_{imp}^{2} + 2.51515151515152 na_{imp} - 400.0\\right)}{- 0.00303030303030303 na_{imp}^{2} - 2.51515151515152 na_{imp} + 500.0} + 0.000707 - \\frac{- Na \\left(\\frac{3.03030303030303 \\cdot 10^{-7} \\left(na_{imp}^{2} + 500.0 na_{imp}\\right) \\left(0.00303030303030303 na_{imp}^{2} + 2.51515151515152 na_{imp} - 400.0\\right)}{- 0.00303030303030303 na_{imp}^{2} - 2.51515151515152 na_{imp} + 500.0} - 0.000707\\right) + Nb \\left(\\frac{3.03030303030303 \\cdot 10^{-7} \\left(na_{imp}^{2} + 500.0 na_{imp}\\right) \\left(0.00303030303030303 na_{imp}^{2} + 2.51515151515152 na_{imp} - 400.0\\right)}{- 0.00303030303030303 na_{imp}^{2} - 2.51515151515152 na_{imp} + 500.0} - 0.000707\\right) + 4.99849 \\cdot 10^{-7} \\left(\\frac{0.000428614290000429 \\left(na_{imp}^{2} + 500.0 na_{imp}\\right) \\left(0.00303030303030303 na_{imp}^{2} + 2.51515151515152 na_{imp} - 400.0\\right)}{- 0.00303030303030303 na_{imp}^{2} - 2.51515151515152 na_{imp} + 500.0} - 1\\right)^{2}}{Kd_{1} L^{3}}\\right)}$"
      ],
      "text/plain": [
       "-Kd2 + (-Na*(3.03030303030303e-7*(na_imp**2 + 500.0*na_imp)*(0.00303030303030303*na_imp**2 + 2.51515151515152*na_imp - 400.0)/(-0.00303030303030303*na_imp**2 - 2.51515151515152*na_imp + 500.0) - 0.000707) + Nb*(3.03030303030303e-7*(na_imp**2 + 500.0*na_imp)*(0.00303030303030303*na_imp**2 + 2.51515151515152*na_imp - 400.0)/(-0.00303030303030303*na_imp**2 - 2.51515151515152*na_imp + 500.0) - 0.000707) + 4.99849e-7*(0.000428614290000429*(na_imp**2 + 500.0*na_imp)*(0.00303030303030303*na_imp**2 + 2.51515151515152*na_imp - 400.0)/(-0.00303030303030303*na_imp**2 - 2.51515151515152*na_imp + 500.0) - 1)**2)*(-Na + Nc + 3.03030303030303e-7*(na_imp**2 + 500.0*na_imp)*(0.00303030303030303*na_imp**2 + 2.51515151515152*na_imp - 400.0)/(-0.00303030303030303*na_imp**2 - 2.51515151515152*na_imp + 500.0) - 0.000707 + (-Na*(3.03030303030303e-7*(na_imp**2 + 500.0*na_imp)*(0.00303030303030303*na_imp**2 + 2.51515151515152*na_imp - 400.0)/(-0.00303030303030303*na_imp**2 - 2.51515151515152*na_imp + 500.0) - 0.000707) + Nb*(3.03030303030303e-7*(na_imp**2 + 500.0*na_imp)*(0.00303030303030303*na_imp**2 + 2.51515151515152*na_imp - 400.0)/(-0.00303030303030303*na_imp**2 - 2.51515151515152*na_imp + 500.0) - 0.000707) + 4.99849e-7*(0.000428614290000429*(na_imp**2 + 500.0*na_imp)*(0.00303030303030303*na_imp**2 + 2.51515151515152*na_imp - 400.0)/(-0.00303030303030303*na_imp**2 - 2.51515151515152*na_imp + 500.0) - 1)**2)/(Kd1*L**3))/(Kd1*L**5*(Na - 3.03030303030303e-7*(na_imp**2 + 500.0*na_imp)*(0.00303030303030303*na_imp**2 + 2.51515151515152*na_imp - 400.0)/(-0.00303030303030303*na_imp**2 - 2.51515151515152*na_imp + 500.0) + 0.000707 - (-Na*(3.03030303030303e-7*(na_imp**2 + 500.0*na_imp)*(0.00303030303030303*na_imp**2 + 2.51515151515152*na_imp - 400.0)/(-0.00303030303030303*na_imp**2 - 2.51515151515152*na_imp + 500.0) - 0.000707) + Nb*(3.03030303030303e-7*(na_imp**2 + 500.0*na_imp)*(0.00303030303030303*na_imp**2 + 2.51515151515152*na_imp - 400.0)/(-0.00303030303030303*na_imp**2 - 2.51515151515152*na_imp + 500.0) - 0.000707) + 4.99849e-7*(0.000428614290000429*(na_imp**2 + 500.0*na_imp)*(0.00303030303030303*na_imp**2 + 2.51515151515152*na_imp - 400.0)/(-0.00303030303030303*na_imp**2 - 2.51515151515152*na_imp + 500.0) - 1)**2)/(Kd1*L**3)))"
      ]
     },
     "execution_count": 177,
     "metadata": {},
     "output_type": "execute_result"
    }
   ],
   "source": [
    "nab_imp = (((Nb*x)-(Na*x)+(x**2))/((L**3)*Kd1))\n",
    "\n",
    "eq1 = (((nab_imp*(Nc-Na+x+nab_imp))/((L**2)*(Na-x-nab_imp)))-Kd2)\n",
    "\n",
    "eq1"
   ]
  },
  {
   "cell_type": "code",
   "execution_count": 75,
   "metadata": {},
   "outputs": [
    {
     "name": "stdout",
     "output_type": "stream",
     "text": [
      "Free AP2: 3290.66465579427\n",
      "Free PIP2: 30.6646557942654\n",
      "Free Transferrin: 2.52839527092874e-10\n",
      "AP2-PIP2: 469.335344205987\n",
      "AP2-PIP2-Transferrin: -2.52839527092874e-10\n"
     ]
    }
   ],
   "source": [
    "A_calc, P_calc, T_calc, AP_calc, APT_calc = exp_solver(3760,500,0,500, ((0.7*1e-3)/.602), .002, .1362, .0029) #(Na,Nb,Nc,L,ka1,kb1,ka2,kb2)\n"
   ]
  },
  {
   "cell_type": "code",
   "execution_count": 76,
   "metadata": {},
   "outputs": [
    {
     "data": {
      "text/latex": [
       "$\\displaystyle 2856.19395549801$"
      ],
      "text/plain": [
       "2856.19395549801"
      ]
     },
     "execution_count": 76,
     "metadata": {},
     "output_type": "execute_result"
    }
   ],
   "source": [
    "L = 500\n",
    "A = A_calc[1]/L**3\n",
    "P = P_calc[1]/L**3\n",
    "T = T_calc[1]/L**3\n",
    "AP = AP_calc[1]/L**3\n",
    "APT = APT_calc[1]/L**3\n",
    "\n",
    "\n",
    "Kobs = (A*P)/(APT+AP)\n",
    "converter(Kobs, L, molar=False)"
   ]
  },
  {
   "cell_type": "code",
   "execution_count": 78,
   "metadata": {},
   "outputs": [
    {
     "data": {
      "text/plain": [
       "2900.0"
      ]
     },
     "execution_count": 78,
     "metadata": {},
     "output_type": "execute_result"
    }
   ],
   "source": [
    "Kd1 = 2900\n",
    "Kd2 = 35.35738513360946\n",
    "T3d = T\n",
    "T_eq = 0#(T3d/.602)*1e9\n",
    "\n",
    "Kobs = (Kd1*Kd2)/(Kd2+T_eq)\n",
    "Kobs"
   ]
  },
  {
   "cell_type": "code",
   "execution_count": 72,
   "metadata": {},
   "outputs": [
    {
     "data": {
      "text/plain": [
       "35.35738513360946"
      ]
     },
     "execution_count": 72,
     "metadata": {},
     "output_type": "execute_result"
    }
   ],
   "source": [
    "converter(((.0029*1e-6)/.1362),500,molar=False)"
   ]
  },
  {
   "cell_type": "code",
   "execution_count": 11,
   "metadata": {},
   "outputs": [
    {
     "data": {
      "image/png": "[encoded data removed]",
      "text/plain": [
       "<Figure size 1600x800 with 1 Axes>"
      ]
     },
     "metadata": {
      "needs_background": "light"
     },
     "output_type": "display_data"
    }
   ],
   "source": [
    "fig = plt.figure(figsize=(8,4),dpi=200)\n",
    "ax = fig.add_subplot(111)\n",
    "#ax.scatter(np.arange(step_n+1), path, c='blue',alpha=0.25,s=0.05);\n",
    "ax.plot(A,c='red',alpha=0.5,lw=0.5,ls='-', label = 'A');\n",
    "ax.plot(AP,c='cyan',alpha=0.5,lw=0.5,ls='-', label = 'AP');\n",
    "ax.plot(P,c='blue',alpha=0.5,lw=0.5,ls='-', label = 'P');\n",
    "ax.plot(APT,c='magenta',alpha=0.5,lw=0.5,ls='-', label = 'APT');\n",
    "ax.plot(T,c='green',alpha=0.5,lw=0.5,ls='-', label = 'T');\n",
    "ax.plot(A_calc,c='red',alpha=0.5,lw=0.5,ls='--');\n",
    "ax.plot(P_calc,c='blue',alpha=0.5,lw=0.5,ls='--');\n",
    "ax.plot(T_calc,c='green',alpha=0.5,lw=0.5,ls='--');\n",
    "ax.plot(AP_calc,c='cyan',alpha=0.5,lw=0.5,ls='--');\n",
    "ax.plot(APT_calc,c='magenta',alpha=0.5,lw=0.5,ls='--');\n",
    "\n",
    "plt.title('AP2-PIP2-Transferrin Complexing')\n",
    "plt.xlabel('Steps')\n",
    "plt.ylabel('# of Particles')\n",
    "#plt.tight_layout(pad=0)\n",
    "plt.legend(loc = 'upper right', prop={'size': 6})\n",
    "plt.savefig('./experimental_copynumbers.png',dpi=250);"
   ]
  }
 ],
 "metadata": {
  "interpreter": {
   "hash": "be137c85d45af169fd22c97f45b0d2baf66962448c4d1e590352b4c4505c7e0f"
  },
  "kernelspec": {
   "display_name": "Python 3.9.6 64-bit ('nerdss': conda)",
   "name": "python3"
  },
  "language_info": {
   "codemirror_mode": {
    "name": "ipython",
    "version": 3
   },
   "file_extension": ".py",
   "mimetype": "text/x-python",
   "name": "python",
   "nbconvert_exporter": "python",
   "pygments_lexer": "ipython3",
   "version": "3.9.7"
  }
 },
 "nbformat": 4,
 "nbformat_minor": 5
}
