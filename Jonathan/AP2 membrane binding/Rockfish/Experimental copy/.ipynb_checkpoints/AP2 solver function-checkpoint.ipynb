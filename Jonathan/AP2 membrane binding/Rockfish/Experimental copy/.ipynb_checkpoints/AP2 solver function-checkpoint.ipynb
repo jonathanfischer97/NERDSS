{
 "cells": [
  {
   "cell_type": "code",
   "execution_count": 149,
   "id": "71380ae3",
   "metadata": {},
   "outputs": [],
   "source": [
    "from sympy import symbols, solve, solveset, S\n",
    "import math\n",
    "import numpy as np"
   ]
  },
  {
   "cell_type": "code",
   "execution_count": 156,
   "id": "3c6c0697",
   "metadata": {},
   "outputs": [],
   "source": [
    "def solver(Na,Nb,Nc,L,Kd1,Kd2):   \n",
    "    na_imp = symbols('na_imp', real = True, positive = True)\n",
    "\n",
    "    nab_imp = (((Nb*na_imp)-(Na*na_imp)+(na_imp**2))/((L**3)*Kd1))\n",
    "\n",
    "    eq1 = (((nab_imp*(Nc-Na+na_imp+nab_imp))/((L**2)*(Na-na_imp-nab_imp)))-Kd2)\n",
    "\n",
    "    x = solveset(eq1, na_imp, domain = S.Reals)\n",
    "    \n",
    "    na = 0 \n",
    "    for i in list(x):\n",
    "        if i > 0:\n",
    "            na = i\n",
    "    \n",
    "    nab = (((Nb*na)-(Na*na)+(na**2))/((L**3)*Kd1))\n",
    "    \n",
    "    nc = na + nab + Nc - Na\n",
    "    \n",
    "    nb = Nb - Na + na\n",
    "    \n",
    "    nabc = Nc - nc\n",
    "    \n",
    "    #Theoretical Observed Equilibrium\n",
    "\n",
    "    print('Free AP2: ' + str(na))\n",
    "    print('Free PIP2: ' + str(nb))\n",
    "    print('Free Transferrin: ' + str(nc))\n",
    "    print('AP2-PIP2: ' + str(nab))\n",
    "    print('AP2-PIP2-Transferrin: ' + str(nabc))\n",
    "    "
   ]
  },
  {
   "cell_type": "code",
   "execution_count": 137,
   "id": "e4f7bc47",
   "metadata": {},
   "outputs": [
    {
     "name": "stdout",
     "output_type": "stream",
     "text": [
      "Free AP2: 0\n",
      "Free PIP2: 450\n",
      "Free Transferrin: 0.0\n",
      "AP2-PIP2: 0.0\n",
      "AP2-PIP2-Transferrin: 50.0\n"
     ]
    },
    {
     "data": {
      "text/latex": [
       "$\\displaystyle \\left\\{-450.412500018008, -449.999999819938, -8.62155759342845 \\cdot 10^{-5}, 8.60535221419744 \\cdot 10^{-5}\\right\\}$"
      ],
      "text/plain": [
       "FiniteSet(-450.412500018008, -449.999999819938, -8.62155759342845e-5, 8.60535221419744e-5)"
      ]
     },
     "execution_count": 137,
     "metadata": {},
     "output_type": "execute_result"
    }
   ],
   "source": [
    "#with realistic Kds\n",
    "x = solver(50,500,50,50,0.0000033,0.0000000707)\n",
    "x"
   ]
  },
  {
   "cell_type": "code",
   "execution_count": 148,
   "id": "ab05fba0",
   "metadata": {},
   "outputs": [
    {
     "name": "stdout",
     "output_type": "stream",
     "text": [
      "Free AP2: 5.41924493180763\n",
      "Free PIP2: 455.4192449318076\n",
      "Free Transferrin: 11.402344168036372\n",
      "AP2-PIP2: 5.983099236228743\n",
      "AP2-PIP2-Transferrin: 38.59765583196363\n"
     ]
    },
    {
     "data": {
      "text/latex": [
       "$\\displaystyle \\left\\{-862.548892870987, -448.192571511157, -7.17778054966293, 5.41924493180763\\right\\}$"
      ],
      "text/plain": [
       "FiniteSet(-862.548892870987, -448.192571511157, -7.17778054966293, 5.41924493180763)"
      ]
     },
     "execution_count": 148,
     "metadata": {},
     "output_type": "execute_result"
    }
   ],
   "source": [
    "#Kd increased by several orders of magnitute make for more interesting results \n",
    "x = solver(50,500,50,50,0.0033,0.000707)\n",
    "x"
   ]
  },
  {
   "cell_type": "code",
   "execution_count": 157,
   "id": "c89236ce",
   "metadata": {},
   "outputs": [
    {
     "name": "stdout",
     "output_type": "stream",
     "text": [
      "Free AP2: 5.41924493180763\n",
      "Free PIP2: 455.419244931808\n",
      "Free Transferrin: 11.4023441680364\n",
      "AP2-PIP2: 5.98309923622874\n",
      "AP2-PIP2-Transferrin: 38.5976558319636\n"
     ]
    }
   ],
   "source": [
    "x = solver(50,500,50,50,0.0033,0.000707)\n"
   ]
  },
  {
   "cell_type": "code",
   "execution_count": 153,
   "id": "8ac4cbb6",
   "metadata": {},
   "outputs": [
    {
     "data": {
      "text/plain": [
       "[-862.548892870987, -448.192571511157, -7.17778054966293, 5.41924493180763]"
      ]
     },
     "execution_count": 153,
     "metadata": {},
     "output_type": "execute_result"
    }
   ],
   "source": [
    "list(x)"
   ]
  },
  {
   "cell_type": "code",
   "execution_count": null,
   "id": "acfd7826",
   "metadata": {},
   "outputs": [],
   "source": []
  }
 ],
 "metadata": {
  "kernelspec": {
   "display_name": "Python 3 (ipykernel)",
   "language": "python",
   "name": "python3"
  },
  "language_info": {
   "codemirror_mode": {
    "name": "ipython",
    "version": 3
   },
   "file_extension": ".py",
   "mimetype": "text/x-python",
   "name": "python",
   "nbconvert_exporter": "python",
   "pygments_lexer": "ipython3",
   "version": "3.9.6"
  }
 },
 "nbformat": 4,
 "nbformat_minor": 5
}
