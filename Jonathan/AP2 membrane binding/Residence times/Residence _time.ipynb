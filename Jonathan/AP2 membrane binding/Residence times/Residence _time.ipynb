{
 "cells": [
  {
   "cell_type": "code",
   "execution_count": 1,
   "source": [
    "import numpy as np\n",
    "import matplotlib.pyplot as plt \n",
    "from glob import glob, iglob\n",
    "from sympy import sympify, symbols, abc \n",
    "import math"
   ],
   "outputs": [],
   "metadata": {}
  },
  {
   "cell_type": "code",
   "execution_count": 47,
   "source": [
    "# time threshold \n",
    "times = {}\n",
    "for filepath in iglob('/Users/jonathanfischer/Desktop/M1 NERDSS/Jonathan/AP2 membrane binding/Residence times/*'):\n",
    "    file = open(str(filepath)+'/copy_numbers_time.dat')\n",
    "    filepathsplit = str(filepath).split('/')\n",
    "    times[filepathsplit[8]] = []     \n",
    "    previous_amounts = [0]\n",
    "    count = 0 \n",
    "    a_time = 0\n",
    "    binding = []    \n",
    "    checker = {}\n",
    "    detector = 0 \n",
    "    dis_time = 0\n",
    "    for line in file:\n",
    "        linesplit = line.split(',')\n",
    "        \n",
    "        if count > 0:\n",
    "            #checker[linesplit[0]]=linesplit[1]\n",
    "            if int(linesplit[1]) - previous_amounts[-1] > 0:\n",
    "                new_time = ((float(linesplit[0]) - a_time))\n",
    "                dis_time = float(linesplit[0])\n",
    "                #print(new_time)\n",
    "                times[filepathsplit[8]].append(new_time)\n",
    "            elif int(linesplit[1]) - previous_amounts[-1] < 0 and float(linesplit[0]) - dis_time > 0.0001:\n",
    "                #if int(linesplit[1]) == list(checker.items())[-3]:\n",
    "                \n",
    "                a_time = float(linesplit[0])\n",
    "                binding.append(a_time)\n",
    "                #print(a_time)\n",
    "            elif int(linesplit[1]) - previous_amounts[-1] < 0 and float(linesplit[0]) - dis_time <= 0.0001:\n",
    "                times[filepathsplit[8]].remove(times[filepathsplit[8]][-1])\n",
    "                detector += 1 \n",
    "            previous_amounts.append(int(linesplit[1]))\n",
    "            if count > 1:\n",
    "                previous_amounts.remove(previous_amounts[0])\n",
    "            \n",
    "        count += 1\n",
    "    print(detector)\n",
    "    print(len(times[filepathsplit[8]]))\n",
    "\n",
    "\n",
    "\n",
    "\n"
   ],
   "outputs": [
    {
     "output_type": "stream",
     "name": "stdout",
     "text": [
      "23\n",
      "91\n",
      "65\n",
      "46\n",
      "99\n",
      "27\n",
      "106\n",
      "8\n",
      "117\n",
      "13\n"
     ]
    }
   ],
   "metadata": {}
  },
  {
   "cell_type": "code",
   "execution_count": 2,
   "source": [
    "#original \n",
    "times = {}\n",
    "\n",
    "for filepath in iglob('/Users/jonathanfischer/Desktop/M1 NERDSS/Jonathan/AP2 membrane binding/Residence times/*'):\n",
    "    file = open(str(filepath)+'/copy_numbers_time.dat')\n",
    "    filepathsplit = str(filepath).split('/')\n",
    "    times[filepathsplit[8]] = []     \n",
    "    previous_amounts = 0\n",
    "    count = 0 \n",
    "    a_time = 0\n",
    "    for line in file:\n",
    "        linesplit = line.split(',')\n",
    "        \n",
    "        if count > 0:\n",
    "            if int(linesplit[1]) - previous_amounts > 0:\n",
    "                new_time = ((float(linesplit[0]) - a_time))\n",
    "                times[filepathsplit[8]].append(new_time)\n",
    "            elif int(linesplit[1]) - previous_amounts < 0:\n",
    "                a_time = float(linesplit[0])\n",
    "                #binding.append(a_time)\n",
    "            previous_amounts = int(linesplit[1])\n",
    "        count += 1\n",
    "        #print(previous_amounts)\n",
    "\n",
    "\n",
    "\n",
    "\n"
   ],
   "outputs": [],
   "metadata": {}
  },
  {
   "cell_type": "code",
   "execution_count": 7,
   "source": [
    "#test\n",
    "times = {}\n",
    "\n",
    "for filepath in iglob('/Users/jonathanfischer/Desktop/M1 NERDSS/Jonathan/AP2 membrane binding/Residence times/*'):\n",
    "    file = open(str(filepath)+'/copy_numbers_time.dat')\n",
    "    filepathsplit = str(filepath).split('/')\n",
    "    times[filepathsplit[8]] = []     \n",
    "    previous_amounts = [1,1]\n",
    "    count = 0 \n",
    "    a_time = 0\n",
    "    for line in file:\n",
    "        linesplit = line.split(',')\n",
    "        \n",
    "        if count > 0:\n",
    "            if int(linesplit[3]) - previous_amounts[1] < 0 and int(linesplit[2]) == 1:\n",
    "                a_time = float(linesplit[0])\n",
    "                #print(a_time)\n",
    "            elif int(linesplit[3]) - previous_amounts[1] > 0 and int(linesplit[2]) == 1:\n",
    "                new_time = ((float(linesplit[0]) - a_time))\n",
    "                times[filepathsplit[8]].append(new_time)\n",
    "                #print(a_time, linesplit[0], new_time)\n",
    "            #if int(linesplit[2]) == 0 and int(linesplit[3]) == 1:\n",
    "                #print(linesplit)\n",
    "            previous_amounts[0] = int(linesplit[2])\n",
    "            previous_amounts[1] = int(linesplit[3])\n",
    "        count += 1\n",
    "        #print(a_time, linesplit[0])\n",
    "\n",
    "\n",
    "\n",
    "\n"
   ],
   "outputs": [],
   "metadata": {}
  },
  {
   "cell_type": "code",
   "execution_count": 55,
   "source": [
    "#500\n",
    "\n",
    "file = open('/Users/jonathanfischer/Desktop/M1 NERDSS/Jonathan/AP2 membrane binding/Residence times/500/copy_numbers_time.dat')\n",
    "\n",
    "test_500 = []     \n",
    "previous_amounts = [1,1]\n",
    "count = 0 \n",
    "a_time = 0\n",
    "for line in file:\n",
    "    linesplit = line.split(',')\n",
    "    \n",
    "    if count > 0:\n",
    "        if int(linesplit[3]) - previous_amounts[1] < 0 and int(linesplit[2]) == 1:\n",
    "            a_time = float(linesplit[0])\n",
    "            #print(a_time)\n",
    "        elif int(linesplit[3]) - previous_amounts[1] > 0 and int(linesplit[2]) == 1:\n",
    "            new_time = ((float(linesplit[0]) - a_time))\n",
    "            test_500.append(new_time)\n",
    "            print(a_time, linesplit[0], new_time)\n",
    "        #if int(linesplit[2]) == 0 and int(linesplit[3]) == 1:\n",
    "            #print(linesplit)\n",
    "        previous_amounts[0] = int(linesplit[2])\n",
    "        previous_amounts[1] = int(linesplit[3])\n",
    "    count += 1\n",
    "    #print(a_time, linesplit[0])"
   ],
   "outputs": [
    {
     "output_type": "stream",
     "name": "stdout",
     "text": [
      "0.11863 0.12352 0.0048900000000000055\n",
      "0.16113 0.16196 0.0008299999999999974\n",
      "0.25653 0.25654 1.0000000000010001e-05\n",
      "0.25866 0.25895 0.00029000000000001247\n",
      "0.32675 0.3269 0.000150000000000039\n",
      "0.37315 0.37322 7.00000000000145e-05\n",
      "0.38147 0.38243 0.0009600000000000164\n",
      "0.4249 0.42768 0.0027800000000000047\n",
      "0.45446 0.45521 0.0007500000000000284\n",
      "0.46907 0.47192 0.002850000000000019\n",
      "0.49988 0.5004 0.0005199999999999649\n",
      "0.51095 0.51868 0.007730000000000015\n",
      "0.5737 0.57374 4.0000000000040004e-05\n",
      "0.60667 0.6106 0.003929999999999989\n",
      "0.61738 0.61763 0.00024999999999997247\n",
      "0.65857 0.65888 0.00031000000000003247\n",
      "0.66738 0.66759 0.00021000000000004349\n",
      "0.66848 0.67683 0.00835000000000008\n",
      "0.69632 0.69651 0.00018999999999991246\n",
      "0.70806 0.71705 0.008989999999999942\n",
      "0.71739 0.72888 0.01149\n",
      "0.74514 0.74954 0.0043999999999999595\n",
      "0.76403 0.77273 0.008700000000000041\n",
      "0.77375 0.77407 0.00031999999999998696\n",
      "0.77556 0.78104 0.005479999999999929\n",
      "0.79383 0.79391 7.999999999996898e-05\n",
      "0.82941 0.82965 0.00024000000000001798\n",
      "0.88646 0.89102 0.0045600000000000085\n",
      "0.89365 0.89382 0.00016999999999989246\n",
      "0.94835 0.954 0.005649999999999933\n",
      "0.98692 0.98698 5.999999999994898e-05\n",
      "1.01186 1.01203 0.00017000000000000348\n",
      "1.04783 1.04795 0.00011999999999989797\n",
      "1.05608 1.05747 0.0013900000000000023\n",
      "1.08676 1.0872 0.00043999999999999595\n",
      "1.08782 1.08823 0.00041000000000002146\n",
      "1.09665 1.10081 0.004160000000000164\n",
      "1.1654 1.16572 0.000320000000000098\n",
      "1.24085 1.24086 1.0000000000065512e-05\n",
      "1.24135 1.24209 0.0007399999999999629\n",
      "1.27789 1.28627 0.008380000000000054\n",
      "1.3236 1.32691 0.003309999999999924\n",
      "1.35901 1.35916 0.00014999999999987246\n",
      "1.35919 1.36295 0.0037600000000002076\n",
      "1.39514 1.39523 8.999999999992347e-05\n",
      "1.43683 1.43765 0.0008200000000000429\n",
      "1.43767 1.43784 0.00017000000000000348\n",
      "1.44029 1.44059 0.00029999999999996696\n",
      "1.51401 1.5165 0.002489999999999881\n",
      "1.51656 1.51672 0.00016000000000016001\n",
      "1.52279 1.52396 0.0011699999999998933\n",
      "1.52432 1.52706 0.0027400000000001867\n",
      "1.57812 1.57839 0.00026999999999999247\n",
      "1.62261 1.62735 0.0047399999999999665\n",
      "1.67743 1.67865 0.0012199999999999989\n",
      "1.74127 1.74133 5.999999999994898e-05\n",
      "1.74286 1.74317 0.00031000000000003247\n",
      "1.76425 1.76591 0.0016599999999999948\n",
      "1.78549 1.78769 0.0021999999999999797\n",
      "1.79612 1.80055 0.004430000000000156\n",
      "1.8078 1.81315 0.005349999999999966\n",
      "1.81861 1.81905 0.00043999999999999595\n",
      "1.86968 1.86981 0.00012999999999996348\n",
      "1.92221 1.93089 0.008680000000000021\n",
      "1.9939 1.99641 0.0025100000000000122\n",
      "2.03211 2.03219 8.000000000008001e-05\n",
      "2.07975 2.08065 0.0008999999999996788\n",
      "2.08189 2.09282 0.010930000000000106\n",
      "2.13618 2.1418 0.005619999999999958\n",
      "2.15653 2.15698 0.0004499999999998394\n",
      "2.15704 2.16679 0.00975000000000037\n",
      "2.20418 2.20429 0.00010999999999983245\n",
      "2.20435 2.20449 0.000140000000000029\n",
      "2.21714 2.21762 0.00048000000000003595\n",
      "2.2192 2.22164 0.0024399999999999977\n",
      "2.22232 2.22256 0.00024000000000024002\n",
      "2.23243 2.23998 0.007550000000000168\n",
      "2.24005 2.24379 0.0037400000000000766\n",
      "2.26752 2.27212 0.0045999999999999375\n",
      "2.30288 2.30647 0.003589999999999982\n",
      "2.32717 2.33008 0.002909999999999968\n",
      "2.33431 2.33481 0.000500000000000167\n",
      "2.37928 2.37989 0.0006099999999999994\n",
      "2.38962 2.38966 4.000000000026205e-05\n",
      "2.44715 2.44781 0.0006599999999998829\n",
      "2.4479 2.44814 0.00023999999999979593\n",
      "2.48746 2.48762 0.00016000000000016001\n",
      "2.48855 2.49018 0.0016300000000000203\n"
     ]
    }
   ],
   "metadata": {}
  },
  {
   "cell_type": "code",
   "execution_count": 47,
   "source": [
    "len(times['500'])"
   ],
   "outputs": [
    {
     "output_type": "execute_result",
     "data": {
      "text/plain": [
       "88"
      ]
     },
     "metadata": {},
     "execution_count": 47
    }
   ],
   "metadata": {}
  },
  {
   "cell_type": "code",
   "execution_count": 54,
   "source": [
    "test_500"
   ],
   "outputs": [
    {
     "output_type": "execute_result",
     "data": {
      "text/plain": [
       "[0.0048900000000000055,\n",
       " 0.0008299999999999974,\n",
       " 1.0000000000010001e-05,\n",
       " 0.00029000000000001247,\n",
       " 0.000150000000000039,\n",
       " 7.00000000000145e-05,\n",
       " 0.0009600000000000164,\n",
       " 0.0027800000000000047,\n",
       " 0.0007500000000000284,\n",
       " 0.002850000000000019,\n",
       " 0.0005199999999999649,\n",
       " 0.007730000000000015,\n",
       " 4.0000000000040004e-05,\n",
       " 0.003929999999999989,\n",
       " 0.00024999999999997247,\n",
       " 0.00031000000000003247,\n",
       " 0.00021000000000004349,\n",
       " 0.00835000000000008,\n",
       " 0.00018999999999991246,\n",
       " 0.008989999999999942,\n",
       " 0.01149,\n",
       " 0.0043999999999999595,\n",
       " 0.008700000000000041,\n",
       " 0.00031999999999998696,\n",
       " 0.005479999999999929,\n",
       " 7.999999999996898e-05,\n",
       " 0.00024000000000001798,\n",
       " 0.0045600000000000085,\n",
       " 0.00016999999999989246,\n",
       " 0.005649999999999933,\n",
       " 5.999999999994898e-05,\n",
       " 0.00017000000000000348,\n",
       " 0.00011999999999989797,\n",
       " 0.0013900000000000023,\n",
       " 0.00043999999999999595,\n",
       " 0.00041000000000002146,\n",
       " 0.004160000000000164,\n",
       " 0.000320000000000098,\n",
       " 1.0000000000065512e-05,\n",
       " 0.0007399999999999629,\n",
       " 0.008380000000000054,\n",
       " 0.003309999999999924,\n",
       " 0.00014999999999987246,\n",
       " 0.0037600000000002076,\n",
       " 8.999999999992347e-05,\n",
       " 0.0008200000000000429,\n",
       " 0.00017000000000000348,\n",
       " 0.00029999999999996696,\n",
       " 0.002489999999999881,\n",
       " 0.00016000000000016001,\n",
       " 0.0011699999999998933,\n",
       " 0.0027400000000001867,\n",
       " 0.00026999999999999247,\n",
       " 0.0047399999999999665,\n",
       " 0.0012199999999999989,\n",
       " 5.999999999994898e-05,\n",
       " 0.00031000000000003247,\n",
       " 0.0016599999999999948,\n",
       " 0.0021999999999999797,\n",
       " 0.004430000000000156,\n",
       " 0.005349999999999966,\n",
       " 0.00043999999999999595,\n",
       " 0.00012999999999996348,\n",
       " 0.008680000000000021,\n",
       " 0.0025100000000000122,\n",
       " 8.000000000008001e-05,\n",
       " 0.0008999999999996788,\n",
       " 0.010930000000000106,\n",
       " 0.005619999999999958,\n",
       " 0.0004499999999998394,\n",
       " 0.00975000000000037,\n",
       " 0.00010999999999983245,\n",
       " 0.000140000000000029,\n",
       " 0.00048000000000003595,\n",
       " 0.0024399999999999977,\n",
       " 0.00024000000000024002,\n",
       " 0.007550000000000168,\n",
       " 0.0037400000000000766,\n",
       " 0.0045999999999999375,\n",
       " 0.003589999999999982,\n",
       " 0.002909999999999968,\n",
       " 0.000500000000000167,\n",
       " 0.0006099999999999994]"
      ]
     },
     "metadata": {},
     "execution_count": 54
    }
   ],
   "metadata": {}
  },
  {
   "cell_type": "code",
   "execution_count": 84,
   "source": [
    "x =0.01 - 0.00436\n",
    "\n",
    "y = x*1e6\n",
    "y"
   ],
   "outputs": [
    {
     "output_type": "execute_result",
     "data": {
      "text/plain": [
       "5640.0"
      ]
     },
     "metadata": {},
     "execution_count": 84
    }
   ],
   "metadata": {}
  },
  {
   "cell_type": "code",
   "execution_count": 130,
   "source": [
    "y = len(times['100']) - 2\n",
    "\n",
    "x = sum(times['100'])/y\n",
    "\n",
    "x * 1e6"
   ],
   "outputs": [
    {
     "output_type": "execute_result",
     "data": {
      "text/plain": [
       "3922.090909090907"
      ]
     },
     "metadata": {},
     "execution_count": 130
    }
   ],
   "metadata": {}
  },
  {
   "cell_type": "code",
   "execution_count": 9,
   "source": [
    "time_0 = ((sum(times['0']))/len(times['0']))\n",
    "time_0 = time_0 * 1e6 \n",
    "\n",
    "time_100 = ((sum(times['100']))/len(times['100']))\n",
    "time_100 = time_100 * 1e6 \n",
    "\n",
    "time_300 = ((sum(times['300']))/len(times['300']))\n",
    "time_300 = time_300 * 1e6 \n",
    "\n",
    "time_500 = ((sum(times['500']))/len(times['500']))\n",
    "time_500 = time_500 * 1e6\n",
    "\n",
    "time_750 = ((sum(times['750']))/len(times['750']))\n",
    "time_750 = time_750 * 1e6\n",
    "\n",
    "time_1000 = ((sum(times['1000']))/len(times['1000']))\n",
    "time_1000 = time_1000 * 1e6"
   ],
   "outputs": [],
   "metadata": {}
  },
  {
   "cell_type": "code",
   "execution_count": 78,
   "source": [
    "print(time_0, time_100, time_500, time_750, time_1000)\n"
   ],
   "outputs": [
    {
     "output_type": "stream",
     "name": "stdout",
     "text": [
      "3237.1681415929224 4420.545454545453 3098.7500000000064 4125.999999999999 4341.66666666667\n"
     ]
    }
   ],
   "metadata": {}
  },
  {
   "cell_type": "code",
   "execution_count": 70,
   "source": [
    "list = [1,2,3,4,5]\n",
    "\n",
    "sum(list)/len(list) "
   ],
   "outputs": [
    {
     "output_type": "execute_result",
     "data": {
      "text/plain": [
       "3.0"
      ]
     },
     "metadata": {},
     "execution_count": 70
    }
   ],
   "metadata": {}
  },
  {
   "cell_type": "code",
   "execution_count": 54,
   "source": [
    "(1/330) * 1e6"
   ],
   "outputs": [
    {
     "output_type": "execute_result",
     "data": {
      "text/plain": [
       "3030.3030303030305"
      ]
     },
     "metadata": {},
     "execution_count": 54
    }
   ],
   "metadata": {}
  },
  {
   "cell_type": "code",
   "execution_count": 11,
   "source": [
    "ka1 = 1\n",
    "kb1 = 330\n",
    "ka2 = 0.1362\n",
    "kb2 = 481.7\n",
    "L = 100\n",
    "\n",
    "Kd1 = (kb1/1e6)/ka1\n",
    "Kd2 = (kb2/1e6)/(ka2/2)\n",
    "\n",
    "T_array = np.array(range(1000))\n",
    "\n",
    "\n",
    "rt = (1+((T_array/L**2)/Kd2))*(1/(kb1/1e6))\n",
    "\n"
   ],
   "outputs": [],
   "metadata": {}
  },
  {
   "cell_type": "code",
   "execution_count": 59,
   "source": [
    "ka1 = 1\n",
    "kb1 = 330\n",
    "ka2 = 0.1362\n",
    "kb2 = 481.7\n",
    "L = 100\n",
    "dt = 1\n",
    "\n",
    "\n",
    "Kd1 = (kb1/1e6)/ka1\n",
    "Kd2 = (kb2/1e6)/(ka2/2)\n",
    "\n",
    "T_array = np.array(range(1200))\n",
    "\n",
    "#calculate residence time\n",
    "rt = (1+((T_array/L**2)/Kd2))*(1/(kb1/1e6))\n",
    "\n",
    "#calculate needed steps for certain [T]\n",
    "#steps = ((50*rt) + ((50*(L**3))/ka1))/dt\n",
    "\n",
    "steps = (2*50*rt)/dt\n",
    "steps[1000]\n"
   ],
   "outputs": [
    {
     "output_type": "execute_result",
     "data": {
      "text/plain": [
       "4587099.9804983605"
      ]
     },
     "metadata": {},
     "execution_count": 59
    }
   ],
   "metadata": {}
  },
  {
   "cell_type": "code",
   "execution_count": 40,
   "source": [
    "pi = symbols('sigma')\n",
    "\n",
    "sympify(pi)"
   ],
   "outputs": [
    {
     "output_type": "execute_result",
     "data": {
      "text/latex": [
       "$\\displaystyle \\sigma$"
      ],
      "text/plain": [
       "sigma"
      ]
     },
     "metadata": {},
     "execution_count": 40
    }
   ],
   "metadata": {}
  },
  {
   "cell_type": "code",
   "execution_count": 41,
   "source": [
    "#sigma = 1\n",
    "#D = (1/2*(13+13+13))+(1/3*(13+13+13))\n",
    "\n",
    "T_eq, Kd2, kb1, Kd1, pi, sigma, D, ka1 = symbols('[T_eq], K_d2, k_b1, K_d1, pi, sigma, D, k_a1')\n",
    "\n",
    "\n",
    "sympify((Kd1/ka1) + Kd1/(4*pi*sigma*D) + (T_eq*((Kd1/ka1) + Kd1/(4*pi*sigma*D)))/Kd2)"
   ],
   "outputs": [
    {
     "output_type": "execute_result",
     "data": {
      "text/latex": [
       "$\\displaystyle \\frac{K_{d1}}{k_{a1}} + \\frac{[T_{eq]} \\left(\\frac{K_{d1}}{k_{a1}} + \\frac{K_{d1}}{4 D \\pi \\sigma}\\right)}{K_{d2}} + \\frac{K_{d1}}{4 D \\pi \\sigma}$"
      ],
      "text/plain": [
       "K_d1/k_a1 + [T_eq]*(K_d1/k_a1 + K_d1/(4*D*pi*sigma))/K_d2 + K_d1/(4*D*pi*sigma)"
      ]
     },
     "metadata": {},
     "execution_count": 41
    }
   ],
   "metadata": {}
  },
  {
   "cell_type": "code",
   "execution_count": 45,
   "source": [
    "sigma = 1\n",
    "D = (1/2*(13+13+13))+(1/3*(13+13+13))\n",
    "\n",
    "ka1 = 1\n",
    "kb1 = 330\n",
    "ka2 = 0.1362\n",
    "kb2 = 481.7\n",
    "L = 100\n",
    "\n",
    "Kd1 = (kb1/1e6)/ka1\n",
    "Kd2 = (kb2/1e6)/(ka2/2)\n",
    "\n",
    "t_off = (Kd1/ka1) + Kd1/(4*math.pi*sigma*D) + (T_array*((Kd1/ka1) + Kd1/(4*math.pi*sigma*D)))/Kd2\n",
    "t_off"
   ],
   "outputs": [
    {
     "output_type": "execute_result",
     "data": {
      "text/plain": [
       "array([3.30808017e-04, 4.70985597e-02, 9.38663114e-02, ...,\n",
       "       5.59813296e+01, 5.60280973e+01, 5.60748651e+01])"
      ]
     },
     "metadata": {},
     "execution_count": 45
    }
   ],
   "metadata": {}
  },
  {
   "cell_type": "code",
   "execution_count": 17,
   "source": [
    "1/330"
   ],
   "outputs": [
    {
     "output_type": "execute_result",
     "data": {
      "text/plain": [
       "0.0030303030303030303"
      ]
     },
     "metadata": {},
     "execution_count": 17
    }
   ],
   "metadata": {}
  },
  {
   "cell_type": "code",
   "execution_count": 117,
   "source": [
    "T_eq, K_d2, k_b1 = symbols('[T_eq], K_d2, k_b1')\n",
    "\n",
    "sympify((1+((T_eq/K_d2)))*(1/(k_b1)))"
   ],
   "outputs": [
    {
     "output_type": "execute_result",
     "data": {
      "text/latex": [
       "$\\displaystyle \\frac{1 + \\frac{[T_{eq]}}{K_{d2}}}{k_{b1}}$"
      ],
      "text/plain": [
       "(1 + [T_eq]/K_d2)/k_b1"
      ]
     },
     "metadata": {},
     "execution_count": 117
    }
   ],
   "metadata": {}
  },
  {
   "cell_type": "code",
   "execution_count": 132,
   "source": [
    "time_1000"
   ],
   "outputs": [
    {
     "output_type": "execute_result",
     "data": {
      "text/plain": [
       "4188.782608695654"
      ]
     },
     "metadata": {},
     "execution_count": 132
    }
   ],
   "metadata": {}
  },
  {
   "cell_type": "code",
   "execution_count": 16,
   "source": [
    "fig = plt.figure(figsize=(8,4),dpi=200)\n",
    "ax = fig.add_subplot(111)\n",
    "\n",
    "ax.plot(T_array, rt, label = 'f(T)')\n",
    "ax.plot(0, time_0, marker='o', markersize=3, color=\"magenta\", label = '0 T')\n",
    "ax.plot(100, time_100, marker='o', markersize=3, color=\"red\", label = '100 T')\n",
    "ax.plot(300, time_300, marker='o', markersize=3, color=\"orange\", label = '300 T')\n",
    "ax.plot(500, time_500, marker='o', markersize=3, color=\"black\", label = '500 T')\n",
    "ax.plot(750, time_750, marker='o', markersize=3, color=\"cyan\", label = '750 T')\n",
    "#ax.plot(1000, time_1000, marker='o', markersize=3, color=\"green\", label = '1000 T')\n",
    "\n",
    "plt.title('Residence Times vs. Transferrin Abundance')\n",
    "plt.ylabel('Time(us)')\n",
    "plt.xlabel('Copies of Transferrin')\n",
    "#plt.tight_layout(pad=0)\n",
    "plt.legend(loc = 'right', prop={'size': 6})\n",
    "#plt.savefig('./new_Residence_times_2.png',dpi=250)"
   ],
   "outputs": [
    {
     "output_type": "execute_result",
     "data": {
      "text/plain": [
       "<matplotlib.legend.Legend at 0x7fb9fa2f3ee0>"
      ]
     },
     "metadata": {},
     "execution_count": 16
    },
    {
     "output_type": "display_data",
     "data": {
      "image/png": "[encoded data removed]",
      "text/plain": [
       "<Figure size 1600x800 with 1 Axes>"
      ]
     },
     "metadata": {
      "needs_background": "light"
     }
    }
   ],
   "metadata": {}
  },
  {
   "cell_type": "code",
   "execution_count": 46,
   "source": [
    "fig = plt.figure(figsize=(8,4),dpi=200)\n",
    "ax = fig.add_subplot(111)\n",
    "\n",
    "ax.plot(T_array, t_off, label = 'f(T)')\n",
    "ax.plot(0, time_0, marker='o', markersize=3, color=\"magenta\", label = '0 T')\n",
    "ax.plot(100, time_100, marker='o', markersize=3, color=\"red\", label = '100 T')\n",
    "ax.plot(500, time_500, marker='o', markersize=3, color=\"black\", label = '500 T')\n",
    "ax.plot(1000, time_1000, marker='o', markersize=3, color=\"green\", label = '1000 T')\n",
    "\n",
    "plt.title('Residence Times vs. # Transferrin')\n",
    "plt.ylabel('Time(us)')\n",
    "plt.xlabel('# of Transferrin')\n",
    "#plt.tight_layout(pad=0)\n",
    "plt.legend(loc = 'upper right', prop={'size': 6})"
   ],
   "outputs": [
    {
     "output_type": "execute_result",
     "data": {
      "text/plain": [
       "<matplotlib.legend.Legend at 0x7f8968aee160>"
      ]
     },
     "metadata": {},
     "execution_count": 46
    },
    {
     "output_type": "display_data",
     "data": {
      "image/png": "[encoded data removed]",
      "text/plain": [
       "<Figure size 1600x800 with 1 Axes>"
      ]
     },
     "metadata": {
      "needs_background": "light"
     }
    }
   ],
   "metadata": {}
  }
 ],
 "metadata": {
  "orig_nbformat": 4,
  "language_info": {
   "name": "python",
   "version": "3.9.6",
   "mimetype": "text/x-python",
   "codemirror_mode": {
    "name": "ipython",
    "version": 3
   },
   "pygments_lexer": "ipython3",
   "nbconvert_exporter": "python",
   "file_extension": ".py"
  },
  "kernelspec": {
   "name": "python3",
   "display_name": "Python 3.9.6 64-bit ('nerdss': conda)"
  },
  "interpreter": {
   "hash": "be137c85d45af169fd22c97f45b0d2baf66962448c4d1e590352b4c4505c7e0f"
  }
 },
 "nbformat": 4,
 "nbformat_minor": 2
}